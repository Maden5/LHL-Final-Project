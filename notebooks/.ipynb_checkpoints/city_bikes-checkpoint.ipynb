{
 "cells": [
  {
   "cell_type": "markdown",
   "metadata": {},
   "source": [
    "# CityBikes"
   ]
  },
  {
   "cell_type": "markdown",
   "metadata": {},
   "source": [
    "Send a request to CityBikes for the city of your choice. "
   ]
  },
  {
   "cell_type": "code",
   "execution_count": 40,
   "metadata": {},
   "outputs": [
    {
     "name": "stdout",
     "output_type": "stream",
     "text": [
      "['Los Angeles County Metropolitan Transportation Authority (Metro)', 'Bicycle Transit Systems', 'BCycle, LLC']\n",
      "Imperial & 7th\n"
     ]
    }
   ],
   "source": [
    "import requests\n",
    "\n",
    "city_api = \"http://api.citybik.es/v2/networks/metro-bike-share?fields=id,name,location\"\n",
    "\n",
    "response = requests.get(city_api)\n",
    "\n",
    "if response.status_code == 200:\n",
    "    data = response.json()\n",
    "    \n",
    "    company_name = data.get(\"network\", {}).get(\"company\", \"N/A\")\n",
    "    first_station_name = data.get(\"network\", {}).get(\"stations\", [])[0].get(\"name\", \"N/A\")\n",
    "    \n",
    "    print(company_name)\n",
    "    print(first_station_name)\n",
    "else:\n",
    "    print(\"Error\")\n"
   ]
  },
  {
   "cell_type": "markdown",
   "metadata": {},
   "source": [
    "Parse through the response to get the details you want for the bike stations in that city (latitude, longitude, number of bikes). "
   ]
  },
  {
   "cell_type": "code",
   "execution_count": 28,
   "metadata": {},
   "outputs": [
    {
     "name": "stdout",
     "output_type": "stream",
     "text": [
      "34.04855\n",
      "-118.25905\n",
      "[7, 13, 14, 5, 7, 6, 9, 5, 17, 9, 13, 7, 3, 5, 5, 9, 8, 3, 4, 2, 7, 2, 12, 2, 11, 4, 5, 8, 10, 5, 7, 12, 4, 5, 12, 7, 7, 9, 14, 3, 10, 7, 9, 1, 6, 9, 7, 7, 4, 7, 21, 3, 20, 4, 9, 8, 5, 3, 2, 5, 8, 5, 11, 3, 4, 6, 5, 3, 10, 5, 7, 7, 10, 3, 4, 13, 7, 7, 7, 8, 7, 2, 3, 2, 10, 3, 2, 7, 5, 7, 10, 14, 5, 7, 11, 13, 10, 5, 10, 6, 10, 3, 16, 14, 15, 10, 10, 7, 7, 6, 9, 8, 12, 7, 1, 5, 4, 11, 10, 6, 7, 9, 5, 12, 8, 7, 14, 10, 3, 10, 6, 5, 8, 13, 5, 8, 4, 8, 7, 5, 2, 5, 5, 7, 8, 10, 2, 5, 3, 2, 4, 9, 6, 7, 6, 9, 3, 3, 7, 8, 4, 3, 5, 5, 3, 7, 2, 6, 10, 3, 7, 5, 3, 3, 6, 9, 4, 12, 2, 11, 3, 9, 8, 13, 8, 6, 6, 7, 8, 7, 7, 14, 7, 21, 7, 8, 10, 4, 17, 6, 8, 6, 6, 11, 5, 13, 9, 9, 7, 4, 3, 6, 4, 4, 5, 5, 8, 1, 7, 14, 3, 5, 3, 10]\n"
     ]
    }
   ],
   "source": [
    "latitude = data.get('network', {}).get('location', {}).get('latitude')\n",
    "longitude = data.get('network', {}).get('location', {}).get('longitude')\n",
    "stations = data.get('network', {}).get('stations', {}) \n",
    "number_of_bikes = []\n",
    "for station in stations:\n",
    "    num_bikes = station.get(\"free_bikes\", \"N/A\")\n",
    "    number_of_bikes.append(num_bikes)\n",
    "\n",
    "print(latitude)\n",
    "print(longitude)\n",
    "print(number_of_bikes)"
   ]
  },
  {
   "cell_type": "markdown",
   "metadata": {},
   "source": [
    "Put your parsed results into a DataFrame."
   ]
  },
  {
   "cell_type": "code",
   "execution_count": 33,
   "metadata": {},
   "outputs": [
    {
     "data": {
      "text/html": [
       "<div>\n",
       "<style scoped>\n",
       "    .dataframe tbody tr th:only-of-type {\n",
       "        vertical-align: middle;\n",
       "    }\n",
       "\n",
       "    .dataframe tbody tr th {\n",
       "        vertical-align: top;\n",
       "    }\n",
       "\n",
       "    .dataframe thead th {\n",
       "        text-align: right;\n",
       "    }\n",
       "</style>\n",
       "<table border=\"1\" class=\"dataframe\">\n",
       "  <thead>\n",
       "    <tr style=\"text-align: right;\">\n",
       "      <th></th>\n",
       "      <th>Latitude</th>\n",
       "      <th>Longitude</th>\n",
       "      <th>Number of Bikes</th>\n",
       "    </tr>\n",
       "  </thead>\n",
       "  <tbody>\n",
       "    <tr>\n",
       "      <th>0</th>\n",
       "      <td>34.04855</td>\n",
       "      <td>-118.25905</td>\n",
       "      <td>7</td>\n",
       "    </tr>\n",
       "    <tr>\n",
       "      <th>1</th>\n",
       "      <td>34.04855</td>\n",
       "      <td>-118.25905</td>\n",
       "      <td>13</td>\n",
       "    </tr>\n",
       "    <tr>\n",
       "      <th>2</th>\n",
       "      <td>34.04855</td>\n",
       "      <td>-118.25905</td>\n",
       "      <td>14</td>\n",
       "    </tr>\n",
       "    <tr>\n",
       "      <th>3</th>\n",
       "      <td>34.04855</td>\n",
       "      <td>-118.25905</td>\n",
       "      <td>5</td>\n",
       "    </tr>\n",
       "    <tr>\n",
       "      <th>4</th>\n",
       "      <td>34.04855</td>\n",
       "      <td>-118.25905</td>\n",
       "      <td>7</td>\n",
       "    </tr>\n",
       "    <tr>\n",
       "      <th>...</th>\n",
       "      <td>...</td>\n",
       "      <td>...</td>\n",
       "      <td>...</td>\n",
       "    </tr>\n",
       "    <tr>\n",
       "      <th>219</th>\n",
       "      <td>34.04855</td>\n",
       "      <td>-118.25905</td>\n",
       "      <td>14</td>\n",
       "    </tr>\n",
       "    <tr>\n",
       "      <th>220</th>\n",
       "      <td>34.04855</td>\n",
       "      <td>-118.25905</td>\n",
       "      <td>3</td>\n",
       "    </tr>\n",
       "    <tr>\n",
       "      <th>221</th>\n",
       "      <td>34.04855</td>\n",
       "      <td>-118.25905</td>\n",
       "      <td>5</td>\n",
       "    </tr>\n",
       "    <tr>\n",
       "      <th>222</th>\n",
       "      <td>34.04855</td>\n",
       "      <td>-118.25905</td>\n",
       "      <td>3</td>\n",
       "    </tr>\n",
       "    <tr>\n",
       "      <th>223</th>\n",
       "      <td>34.04855</td>\n",
       "      <td>-118.25905</td>\n",
       "      <td>10</td>\n",
       "    </tr>\n",
       "  </tbody>\n",
       "</table>\n",
       "<p>224 rows × 3 columns</p>\n",
       "</div>"
      ],
      "text/plain": [
       "     Latitude  Longitude  Number of Bikes\n",
       "0    34.04855 -118.25905                7\n",
       "1    34.04855 -118.25905               13\n",
       "2    34.04855 -118.25905               14\n",
       "3    34.04855 -118.25905                5\n",
       "4    34.04855 -118.25905                7\n",
       "..        ...        ...              ...\n",
       "219  34.04855 -118.25905               14\n",
       "220  34.04855 -118.25905                3\n",
       "221  34.04855 -118.25905                5\n",
       "222  34.04855 -118.25905                3\n",
       "223  34.04855 -118.25905               10\n",
       "\n",
       "[224 rows x 3 columns]"
      ]
     },
     "execution_count": 33,
     "metadata": {},
     "output_type": "execute_result"
    }
   ],
   "source": [
    "import pandas as pd\n",
    "\n",
    "df = pd.DataFrame({\n",
    "    'Latitude': latitude,\n",
    "    'Longitude': longitude,\n",
    "    'Number of Bikes': number_of_bikes\n",
    "})\n",
    "\n",
    "df"
   ]
  },
  {
   "cell_type": "code",
   "execution_count": null,
   "metadata": {},
   "outputs": [],
   "source": []
  }
 ],
 "metadata": {
  "kernelspec": {
   "display_name": "firstEnv",
   "language": "python",
   "name": "firstenv"
  },
  "language_info": {
   "codemirror_mode": {
    "name": "ipython",
    "version": 3
   },
   "file_extension": ".py",
   "mimetype": "text/x-python",
   "name": "python",
   "nbconvert_exporter": "python",
   "pygments_lexer": "ipython3",
   "version": "3.10.12"
  }
 },
 "nbformat": 4,
 "nbformat_minor": 4
}
