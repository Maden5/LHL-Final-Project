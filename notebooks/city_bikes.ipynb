{
 "cells": [
  {
   "cell_type": "markdown",
   "metadata": {},
   "source": [
    "# CityBikes"
   ]
  },
  {
   "cell_type": "markdown",
   "metadata": {},
   "source": [
    "Send a request to CityBikes for the city of your choice. "
   ]
  },
  {
   "cell_type": "code",
   "execution_count": 5,
   "metadata": {},
   "outputs": [
    {
     "name": "stdout",
     "output_type": "stream",
     "text": [
      "['Los Angeles County Metropolitan Transportation Authority (Metro)', 'Bicycle Transit Systems', 'BCycle, LLC']\n",
      "Imperial & 7th\n"
     ]
    }
   ],
   "source": [
    "import requests\n",
    "\n",
    "city_api = \"http://api.citybik.es/v2/networks/metro-bike-share\"\n",
    "\n",
    "response = requests.get(city_api)\n",
    "\n",
    "if response.status_code == 200:\n",
    "    data = response.json()\n",
    "    \n",
    "    company_name = data.get(\"network\", {}).get(\"company\", \"N/A\")\n",
    "    \n",
    "    stations = data.get(\"network\", {}).get(\"stations\", [])\n",
    "    first_station_name = stations[0].get(\"name\", \"N/A\") if stations else \"No stations found\"\n",
    "    \n",
    "    print(company_name)\n",
    "    print(first_station_name)\n",
    "else:\n",
    "    print(\"Error\")\n"
   ]
  },
  {
   "cell_type": "markdown",
   "metadata": {},
   "source": [
    "Parse through the response to get the details you want for the bike stations in that city (latitude, longitude, number of bikes). "
   ]
  },
  {
   "cell_type": "code",
   "execution_count": 6,
   "metadata": {},
   "outputs": [
    {
     "name": "stdout",
     "output_type": "stream",
     "text": [
      "[34.0348, 34.03919, 34.04989, 34.05772, 34.03286]\n",
      "[-118.23128, -118.23253, -118.25588, -118.24897, -118.26808]\n",
      "[11, 13, 10, 8, 9]\n"
     ]
    }
   ],
   "source": [
    "# Extracting the details for each station\n",
    "stations = data.get('network', {}).get('stations', {}) \n",
    "\n",
    "latitudes = []\n",
    "longitudes = []\n",
    "number_of_bikes = []\n",
    "\n",
    "for station in stations:\n",
    "    lat = station.get(\"latitude\", \"N/A\")\n",
    "    lon = station.get(\"longitude\", \"N/A\")\n",
    "    num_bikes = station.get(\"free_bikes\", \"N/A\")\n",
    "    \n",
    "    latitudes.append(lat)\n",
    "    longitudes.append(lon)\n",
    "    number_of_bikes.append(num_bikes)\n",
    "\n",
    "print(latitudes[:5])  # Print the first 5 latitudes as a sample\n",
    "print(longitudes[:5])  # Print the first 5 longitudes as a sample\n",
    "print(number_of_bikes[:5])  # Print the first 5 bike counts as a sample\n"
   ]
  },
  {
   "cell_type": "markdown",
   "metadata": {},
   "source": [
    "Put your parsed results into a DataFrame."
   ]
  },
  {
   "cell_type": "code",
   "execution_count": 8,
   "metadata": {},
   "outputs": [
    {
     "data": {
      "text/html": [
       "<div>\n",
       "<style scoped>\n",
       "    .dataframe tbody tr th:only-of-type {\n",
       "        vertical-align: middle;\n",
       "    }\n",
       "\n",
       "    .dataframe tbody tr th {\n",
       "        vertical-align: top;\n",
       "    }\n",
       "\n",
       "    .dataframe thead th {\n",
       "        text-align: right;\n",
       "    }\n",
       "</style>\n",
       "<table border=\"1\" class=\"dataframe\">\n",
       "  <thead>\n",
       "    <tr style=\"text-align: right;\">\n",
       "      <th></th>\n",
       "      <th>Latitude</th>\n",
       "      <th>Longitude</th>\n",
       "      <th>Number of Bikes</th>\n",
       "    </tr>\n",
       "  </thead>\n",
       "  <tbody>\n",
       "    <tr>\n",
       "      <th>0</th>\n",
       "      <td>34.03480</td>\n",
       "      <td>-118.23128</td>\n",
       "      <td>11</td>\n",
       "    </tr>\n",
       "    <tr>\n",
       "      <th>1</th>\n",
       "      <td>34.03919</td>\n",
       "      <td>-118.23253</td>\n",
       "      <td>13</td>\n",
       "    </tr>\n",
       "    <tr>\n",
       "      <th>2</th>\n",
       "      <td>34.04989</td>\n",
       "      <td>-118.25588</td>\n",
       "      <td>10</td>\n",
       "    </tr>\n",
       "    <tr>\n",
       "      <th>3</th>\n",
       "      <td>34.05772</td>\n",
       "      <td>-118.24897</td>\n",
       "      <td>8</td>\n",
       "    </tr>\n",
       "    <tr>\n",
       "      <th>4</th>\n",
       "      <td>34.03286</td>\n",
       "      <td>-118.26808</td>\n",
       "      <td>9</td>\n",
       "    </tr>\n",
       "    <tr>\n",
       "      <th>...</th>\n",
       "      <td>...</td>\n",
       "      <td>...</td>\n",
       "      <td>...</td>\n",
       "    </tr>\n",
       "    <tr>\n",
       "      <th>219</th>\n",
       "      <td>34.04804</td>\n",
       "      <td>-118.25374</td>\n",
       "      <td>9</td>\n",
       "    </tr>\n",
       "    <tr>\n",
       "      <th>220</th>\n",
       "      <td>34.00587</td>\n",
       "      <td>-118.42916</td>\n",
       "      <td>7</td>\n",
       "    </tr>\n",
       "    <tr>\n",
       "      <th>221</th>\n",
       "      <td>34.06699</td>\n",
       "      <td>-118.29088</td>\n",
       "      <td>7</td>\n",
       "    </tr>\n",
       "    <tr>\n",
       "      <th>222</th>\n",
       "      <td>33.99724</td>\n",
       "      <td>-118.44673</td>\n",
       "      <td>8</td>\n",
       "    </tr>\n",
       "    <tr>\n",
       "      <th>223</th>\n",
       "      <td>34.04621</td>\n",
       "      <td>-118.45117</td>\n",
       "      <td>11</td>\n",
       "    </tr>\n",
       "  </tbody>\n",
       "</table>\n",
       "<p>224 rows × 3 columns</p>\n",
       "</div>"
      ],
      "text/plain": [
       "     Latitude  Longitude  Number of Bikes\n",
       "0    34.03480 -118.23128               11\n",
       "1    34.03919 -118.23253               13\n",
       "2    34.04989 -118.25588               10\n",
       "3    34.05772 -118.24897                8\n",
       "4    34.03286 -118.26808                9\n",
       "..        ...        ...              ...\n",
       "219  34.04804 -118.25374                9\n",
       "220  34.00587 -118.42916                7\n",
       "221  34.06699 -118.29088                7\n",
       "222  33.99724 -118.44673                8\n",
       "223  34.04621 -118.45117               11\n",
       "\n",
       "[224 rows x 3 columns]"
      ]
     },
     "execution_count": 8,
     "metadata": {},
     "output_type": "execute_result"
    }
   ],
   "source": [
    "import pandas as pd\n",
    "\n",
    "df = pd.DataFrame({\n",
    "    'Latitude': latitudes,\n",
    "    'Longitude': longitudes,\n",
    "    'Number of Bikes': number_of_bikes\n",
    "})\n",
    "\n",
    "df"
   ]
  },
  {
   "cell_type": "code",
   "execution_count": null,
   "metadata": {},
   "outputs": [],
   "source": []
  }
 ],
 "metadata": {
  "kernelspec": {
   "display_name": "firstEnv",
   "language": "python",
   "name": "firstenv"
  },
  "language_info": {
   "codemirror_mode": {
    "name": "ipython",
    "version": 3
   },
   "file_extension": ".py",
   "mimetype": "text/x-python",
   "name": "python",
   "nbconvert_exporter": "python",
   "pygments_lexer": "ipython3",
   "version": "3.10.12"
  }
 },
 "nbformat": 4,
 "nbformat_minor": 4
}
