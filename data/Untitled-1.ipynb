{
 "cells": [
  {
   "cell_type": "code",
   "execution_count": 1,
   "metadata": {},
   "outputs": [],
   "source": [
    "import sqlite3\n",
    "import pandas as pd\n",
    "\n",
    "conn = sqlite3.connect('mysql_project.db')\n",
    "\n",
    "df_yelp = pd.read_csv('yelp_dataframe.csv')\n",
    "df_fsq = pd.read_csv('foursquare_dataframe.csv')\n",
    "df_yelp_copy = pd.read_csv('yelp_clean_copy_dataframe.csv')\n",
    "df_fsq_copy = pd.read_csv('foursquare_clean_copy_dataframe.csv')\n",
    "df_citybikes = pd.read_csv('citybikes_dataframe.csv')\n",
    "df_close_businesses_yelp = pd.read_csv('close_businesses_yelp.csv')\n",
    "df_close_businesses_fsq = pd.read_csv('close_businesses_fsq.csv')\n",
    "df_close_categories_yelp = pd.read_csv('close_categories_yelp.csv')\n",
    "df_close_categories_fsq = pd.read_csv('close_categories_fsq.csv')\n",
    "yelp_bikes_merged = pd.read_csv('yelp_bikes_merged.csv')\n",
    "fsq_bikes_merged = pd.read_csv('fsq_bikes_merged.csv')\n",
    "\n",
    "df_yelp.to_sql('yelp', conn, if_exists='replace', index=False)\n",
    "df_fsq.to_sql('foursquare', conn, if_exists='replace', index=False)\n",
    "df_yelp_copy.to_sql('yelp_copy', conn, if_exists='replace', index=False)\n",
    "df_fsq_copy.to_sql('foursquare_copy', conn, if_exists='replace', index=False)\n",
    "df_citybikes.to_sql('citybikes', conn, if_exists='replace', index=False)\n",
    "df_close_businesses_yelp.to_sql('close_businesses_yelp', conn, if_exists='replace', index=False)\n",
    "df_close_businesses_fsq.to_sql('close_businesses_fsq', conn, if_exists='replace', index=False)\n",
    "df_close_categories_yelp.to_sql('close_categories_yelp', conn, if_exists='replace', index=False)\n",
    "df_close_categories_fsq.to_sql('close_categories_fsq', conn, if_exists='replace', index=False)\n",
    "yelp_bikes_merged.to_sql('yelp_bikes_merged', conn, if_exists='replace', index=False)\n",
    "fsq_bikes_merged.to_sql('fsq_bikes_merged', conn, if_exists='replace', index=False)\n",
    "\n",
    "conn.close()"
   ]
  },
  {
   "cell_type": "code",
   "execution_count": 3,
   "metadata": {},
   "outputs": [
    {
     "data": {
      "text/plain": [
       "36"
      ]
     },
     "execution_count": 3,
     "metadata": {},
     "output_type": "execute_result"
    }
   ],
   "source": [
    "import pandas as pd\n",
    "\n",
    "conn = sqlite3.connect('mysql_project.db')\n",
    "\n",
    "\n",
    "df_sorted_close_businesses_yelp = pd.read_csv('sorted_close_businesses_yelp.csv')\n",
    "df_sorted_close_businesses_fsq = pd.read_csv('sorted_close_businesses_fsq.csv')\n",
    "\n",
    "df_sorted_close_businesses_yelp.to_sql('sorted_join_table_yelp', conn, if_exists='replace', index=False)\n",
    "df_sorted_close_businesses_fsq.to_sql('sorted_join_table_fsq', conn, if_exists='replace', index=False)\n"
   ]
  },
  {
   "cell_type": "code",
   "execution_count": null,
   "metadata": {},
   "outputs": [],
   "source": []
  }
 ],
 "metadata": {
  "kernelspec": {
   "display_name": "firstEnv",
   "language": "python",
   "name": "firstenv"
  },
  "language_info": {
   "codemirror_mode": {
    "name": "ipython",
    "version": 3
   },
   "file_extension": ".py",
   "mimetype": "text/x-python",
   "name": "python",
   "nbconvert_exporter": "python",
   "pygments_lexer": "ipython3",
   "version": "3.10.12"
  }
 },
 "nbformat": 4,
 "nbformat_minor": 2
}
